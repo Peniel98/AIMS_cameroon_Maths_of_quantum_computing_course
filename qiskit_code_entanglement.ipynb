{
 "cells": [
  {
   "cell_type": "markdown",
   "metadata": {},
   "source": [
    "\\title{Exercise 1}\n",
    "\\author{Group1}\n",
    "\\maketitle"
   ]
  },
  {
   "cell_type": "markdown",
   "metadata": {},
   "source": [
    "3. Let's implement $U$ as a circut is Qiskit\n",
    "Our matrix $U$ is given by \n",
    "\\begin{equation}\n",
    "U = \\Lambda^1(X)(\\mathtt{H}\\otimes\\mathrm{1})(\\mathrm{1}\\otimes\\mathtt{X})\n",
    "\\end{equation}"
   ]
  },
  {
   "cell_type": "code",
   "execution_count": 1,
   "metadata": {},
   "outputs": [],
   "source": [
    "## importijng useful packages \n",
    "\n",
    "from qiskit import QuantumCircuit"
   ]
  },
  {
   "cell_type": "code",
   "execution_count": 2,
   "metadata": {},
   "outputs": [
    {
     "data": {
      "image/png": "[encoded data removed]",
      "text/plain": [
       "<Figure size 206.852x204.68 with 1 Axes>"
      ]
     },
     "execution_count": 2,
     "metadata": {},
     "output_type": "execute_result"
    }
   ],
   "source": [
    "##diefining the quantum circuit\n",
    "U = QuantumCircuit(2,2)\n",
    "## Adding gates\n",
    "\n",
    "U.x(1)\n",
    "U.h(0)\n",
    "U.cx(0,1)\n",
    "\n",
    "### drawing U \n",
    "\n",
    "U.draw('mpl')"
   ]
  },
  {
   "cell_type": "markdown",
   "metadata": {},
   "source": [
    "4. Output vector by performing the 'statevector simulation' by excuting"
   ]
  },
  {
   "cell_type": "code",
   "execution_count": 9,
   "metadata": {},
   "outputs": [
    {
     "name": "stdout",
     "output_type": "stream",
     "text": [
      "[0.  +0.j 0.71+0.j 0.71+0.j 0.  +0.j]\n"
     ]
    }
   ],
   "source": [
    "### importing the package Aer ## \n",
    "from qiskit import Aer\n",
    "###get an Aer backend#################\n",
    "backend = Aer.get_backend('statevector_simulator')\n",
    "\n",
    "##############run the circuit using the backend 'statevector_simulator'\n",
    "job = backend.run(U)\n",
    "\n",
    "#################store the result in \"result\"\n",
    "result = job.result()\n",
    "\n",
    "################# get the statevector of the output#####################\n",
    "out = result.get_statevector(U, decimals = 2)\n",
    "\n",
    "print(out)\n"
   ]
  }
 ],
 "metadata": {
  "author": "Exercise 1",
  "kernelspec": {
   "display_name": "Python 3",
   "language": "python",
   "name": "python3"
  },
  "language_info": {
   "codemirror_mode": {
    "name": "ipython",
    "version": 3
   },
   "file_extension": ".py",
   "mimetype": "text/x-python",
   "name": "python",
   "nbconvert_exporter": "python",
   "pygments_lexer": "ipython3",
   "version": "3.8.5"
  },
  "latex_envs": {
   "LaTeX_envs_menu_present": true,
   "autoclose": false,
   "autocomplete": false,
   "bibliofile": "biblio.bib",
   "cite_by": "apalike",
   "current_citInitial": 1,
   "eqLabelWithNumbers": true,
   "eqNumInitial": 1,
   "hotkeys": {
    "equation": "Ctrl-E",
    "itemize": "Ctrl-I"
   },
   "labels_anchors": false,
   "latex_user_defs": false,
   "report_style_numbering": true,
   "user_envs_cfg": true
  }
 },
 "nbformat": 4,
 "nbformat_minor": 4
}
